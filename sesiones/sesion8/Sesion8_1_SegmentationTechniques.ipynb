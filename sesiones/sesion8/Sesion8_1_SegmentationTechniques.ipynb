{
  "nbformat": 4,
  "nbformat_minor": 0,
  "metadata": {
    "colab": {
      "provenance": []
    },
    "kernelspec": {
      "name": "python3",
      "display_name": "Python 3"
    },
    "language_info": {
      "name": "python"
    }
  },
  "cells": [
    {
      "cell_type": "markdown",
      "source": [
        "<image src=\"https://i.imgur.com/HrRxc5o.jpeg\" width=100%>"
      ],
      "metadata": {
        "id": "mRN4k5A_WtYj"
      }
    },
    {
      "cell_type": "markdown",
      "source": [
        "# <font color='#00FFFF'>**Diferentes técnicas de Segmentación**</font>"
      ],
      "metadata": {
        "id": "x0k82XBaQzDR"
      }
    },
    {
      "cell_type": "markdown",
      "source": [
        "### **Importamos librerías y dependencias**"
      ],
      "metadata": {
        "id": "rTnNuA9Ph7lZ"
      }
    },
    {
      "cell_type": "code",
      "source": [
        "import matplotlib.pyplot as plt\n",
        "import numpy as np\n",
        "import cv2\n",
        "import os"
      ],
      "metadata": {
        "id": "04gs2AftjK5R"
      },
      "execution_count": null,
      "outputs": []
    },
    {
      "cell_type": "code",
      "source": [
        "from skimage.segmentation import felzenszwalb, slic, mark_boundaries, find_boundaries\n",
        "from sklearn.cluster import KMeans, MeanShift, estimate_bandwidth\n",
        "from skimage.util import img_as_float\n",
        "from skimage.color import rgb2gray\n",
        "from sklearn.cluster import KMeans\n",
        "from skimage.filters import sobel\n",
        "from google.colab import files\n",
        "from PIL import Image\n",
        "co=255"
      ],
      "metadata": {
        "id": "jnJn__KN8Tzk"
      },
      "execution_count": null,
      "outputs": []
    },
    {
      "cell_type": "markdown",
      "source": [
        "### **Sube imágenes aquí para explorar los métodos**"
      ],
      "metadata": {
        "id": "NG05Abs0iBI7"
      }
    },
    {
      "cell_type": "code",
      "source": [
        "uploaded = files.upload()\n",
        "image_paths = []\n",
        "\n",
        "for fn in uploaded.keys():\n",
        "  if not os.path.exists('uploaded_images'):\n",
        "    os.makedirs('uploaded_images')\n",
        "\n",
        "  path = os.path.join('uploaded_images', fn)\n",
        "  image_paths.append(path)\n",
        "\n",
        "  with open(path, 'wb') as f:\n",
        "    f.write(uploaded[fn])\n",
        "\n",
        "  print('User uploaded file \"{name}\" with length {length} bytes and saved to {path}'.format(\n",
        "      name=fn, length=len(uploaded[fn]), path=path))"
      ],
      "metadata": {
        "id": "Sp8f00pltVdW"
      },
      "execution_count": null,
      "outputs": []
    },
    {
      "cell_type": "markdown",
      "source": [
        "### **Visualización de las imagenes que subimos**"
      ],
      "metadata": {
        "id": "xL9VcEsRiQj6"
      }
    },
    {
      "cell_type": "code",
      "source": [
        "#Cargar imagen de OpenCV\n",
        "image = cv2.imread(image_paths[0]) # Podemos cambiar la imagen si cambiamos el indice\n",
        "image = cv2.cvtColor(image, cv2.COLOR_BGR2RGB)\n",
        "plt.imshow(image)\n",
        "plt.axis(\"off\")\n",
        "plt.title(\"Source Image\")\n",
        "plt.show()"
      ],
      "metadata": {
        "id": "sWvMzVGAjlsZ"
      },
      "execution_count": null,
      "outputs": []
    },
    {
      "cell_type": "markdown",
      "source": [
        "## <font color='#00FFFF'> **1. Clustering** </font>"
      ],
      "metadata": {
        "id": "ACictwnCig0-"
      }
    },
    {
      "cell_type": "markdown",
      "source": [
        "**K-Means** es un algoritmo de agrupamiento iterativo que busca particionar los datos (en este caso, los píxeles) en `k` clústeres, minimizando la variación dentro de cada clúster.\n",
        "\n",
        "El Objetico es minimizar la suma de distancias cuadradas entre los puntos y sus centroides:\n",
        "\n",
        "$$\n",
        "J = \\sum_{i=1}^{k} \\sum_{x \\in C_i} \\|x - \\mu_i\\|^2\n",
        "$$\n",
        "\n",
        "Donde:\n",
        "- $C_i$ es el conjunto de puntos asignados al clúster $i$\n",
        "- $\\mu_i$ es el centroide del clúster $i$\n",
        "- $x $ es un vector RGB de un píxel\n",
        "\n",
        "El algoritmo lo que hace es:\n",
        "1. Inicializar `k` centroides (puede ser `random` o usando `k-means++`)\n",
        "2. Asignar cada punto al centroide más cercano (mínima distancia euclidiana)\n",
        "3. Recalcular los centroides como la media de los puntos asignados\n",
        "4. Repetir pasos 2 y 3 hasta que los centroides no cambien significativamente\n",
        "\n"
      ],
      "metadata": {
        "id": "tVaBSFl-7WVK"
      }
    },
    {
      "cell_type": "code",
      "source": [
        "flat_image = image.reshape((-1, 3))\n",
        "\n",
        "k = None # Número de clústeres\n",
        "kmeans = KMeans(n_clusters=k,init=None, max_iter=None, tol=None, random_state=42)\n",
        "kmeans.fit(None)\n",
        "labels = kmeans.labels_\n",
        "cluster_centers = kmeans.cluster_centers_\n",
        "segmented_img = cluster_centers[labels].reshape(image.shape).astype(np.uint8)\n",
        "\n",
        "# Visualizamos\n",
        "labels_2d = labels.reshape((image.shape[0], image.shape[1]))\n",
        "boundaries = find_boundaries(labels_2d, mode='outer')\n",
        "segmented_with_borders = segmented_img.copy()\n",
        "segmented_with_borders[boundaries] = co\n",
        "plt.figure(figsize=(10,5))\n",
        "plt.subplot(1,2,1); plt.imshow(image); plt.title('Original'); plt.axis('off')\n",
        "plt.subplot(1,2,2); plt.imshow(segmented_with_borders); plt.title(f'K-Means (k={k})'); plt.axis('off')\n",
        "plt.tight_layout()\n",
        "plt.show()"
      ],
      "metadata": {
        "id": "goG-xuazkmMW"
      },
      "execution_count": null,
      "outputs": []
    },
    {
      "cell_type": "markdown",
      "source": [
        "## <font color='#00FFFF'> **2. Mean-shift** </font>"
      ],
      "metadata": {
        "id": "EvOthr5blEQQ"
      }
    },
    {
      "cell_type": "markdown",
      "source": [
        "**Mean-Shift** es un algoritmo de agrupamiento basado en modos de densidad: busca los picos en la distribución de datos sin necesidad de definir `k`.\n",
        "\n",
        "La idea es mover cada punto hacia la región de mayor densidad local en el espacio de características (en este caso, RGB).\n",
        "\n",
        "$$\n",
        "x^{(t+1)} = \\frac{\\sum_{i} x_i \\cdot K\\left(\\frac{\\|x_i - x^{(t)}\\|^2}{h^2}\\right)}{\\sum_{i} K\\left(\\frac{\\|x_i - x^{(t)}\\|^2}{h^2}\\right)}\n",
        "$$\n",
        "\n",
        "Donde:\n",
        "- $ x^{(t)} $ es la posición actual\n",
        "- $ x_i$ vecinos de $x^{(t)}$\n",
        "- $K$ es un kernel (comúnmente Gaussiano)\n",
        "- $ h $ es el parámetro de **bandwidth** que controla el tamaño de la ventana\n",
        "\n",
        "El algoritmo lo que hace es:\n",
        "1. Inicializar cada punto como un centro candidato\n",
        "2. Iterar sobre cada punto y moverlo hacia la media ponderada de sus vecinos\n",
        "3. Agrupar puntos que convergen al mismo modo"
      ],
      "metadata": {
        "id": "7VjS_nV9AukD"
      }
    },
    {
      "cell_type": "code",
      "source": [
        "flat_image = image.reshape((-1, 3))\n",
        "\n",
        "bandwidth = estimate_bandwidth(flat_image, quantile=None, n_samples=None)\n",
        "ms = MeanShift(bandwidth=bandwidth, bin_seeding=True)\n",
        "ms.fit(None)\n",
        "labels = ms.labels_\n",
        "cluster_centers = ms.cluster_centers_\n",
        "segmented_img = cluster_centers[None].reshape(image.shape).astype(np.uint8)\n",
        "\n",
        "\n",
        "# Visualizamos\n",
        "labels_2d = labels.reshape((image.shape[0], image.shape[1]))\n",
        "boundaries = find_boundaries(labels_2d, mode='thick')\n",
        "segmented_with_borders = segmented_img.copy()\n",
        "segmented_with_borders[boundaries] = co\n",
        "plt.figure(figsize=(10,5))\n",
        "plt.subplot(1,2,1); plt.imshow(image); plt.title('Original')\n",
        "plt.axis('off')\n",
        "plt.subplot(1,2,2); plt.imshow(segmented_with_borders)\n",
        "plt.title(f'Mean-Shift (bandwidth = {bandwidth:.1f})')\n",
        "plt.axis('off')\n",
        "plt.tight_layout()\n",
        "plt.show()"
      ],
      "metadata": {
        "id": "iUaVMP0Kj7VY"
      },
      "execution_count": null,
      "outputs": []
    },
    {
      "cell_type": "markdown",
      "source": [
        "## <font color='#00FFFF'> **3. SLIC (Simple Linear Iterative Clustering)** </font>"
      ],
      "metadata": {
        "id": "fLxj9AmKlYXG"
      }
    },
    {
      "cell_type": "markdown",
      "source": [
        "**SLIC** genera superpíxeles usando un algoritmo similar a K-Means, pero en un espacio 5D (color + posición). Es eficiente y respeta bien los bordes.\n",
        "\n",
        "Cada píxel se representa como:\n",
        "\n",
        "$$[l, a, b, x, y]$$\n",
        "\n",
        "Donde:\n",
        "- $( l, a, b )$ son componentes del espacio de color CIELAB (perceptualmente uniforme)\n",
        "- $( x, y )$ son coordenadas espaciales\n",
        "\n",
        "El algoritmo calcula la distancia de la forma:\n",
        "$$\n",
        "D_s = d_{lab} + \\frac{m}{S} d_{xy}\n",
        "$$\n",
        "\n",
        "$$\n",
        "S = \\sqrt{\\frac{N}{K}}\n",
        "$$\n",
        "\n",
        "\n",
        "Donde:\n",
        "- $d_{lab}$: distancia euclidiana en color\n",
        "- $ d_{xy}$: distancia espacial\n",
        "- $m$: Es un parámetro de ponderación que controla la importancia relativa entre el color y el espacio. Valores grandes de $m$ hacen que la segmentación se enfoque más en la proximidad espacial (superpíxeles más compactos), mientras que valores pequeños la hacen más sensible a los cambios de color.\n",
        "- $N$: es el número total de píxeles en la imagen\n",
        "- $K$: es el número de superpíxeles deseado\n",
        "\n",
        "el proceso que se sigue es:\n",
        "1. Inicializar centroides en una cuadrícula regular\n",
        "2. Para cada píxel en una vecindad local, asignar al centroide más cercano según `D`\n",
        "3. Recalcular centroides\n",
        "4. Repetir hasta convergencia\n"
      ],
      "metadata": {
        "id": "R1r28-KXItz-"
      }
    },
    {
      "cell_type": "code",
      "source": [
        "K=None\n",
        "m=None\n",
        "segments_slic = slic(None, n_segments=K, compactness=m)\n",
        "\n",
        "# Visualizamos el resultado\n",
        "fig, axes = plt.subplots(1, 2, figsize=(10, 5));\n",
        "axes[0].imshow(image);\n",
        "axes[0].axis(\"off\")\n",
        "axes[0].set_title(\"Imagen Original\")\n",
        "axes[1].imshow(mark_boundaries(None, segments_slic, color=1));\n",
        "axes[1].axis(\"off\")\n",
        "axes[1].set_title(f\"SLIC ({len(np.unique(segments_slic))} superpixles)\")\n",
        "plt.tight_layout()\n",
        "plt.show()"
      ],
      "metadata": {
        "id": "5rFi9ExQl3a1"
      },
      "execution_count": null,
      "outputs": []
    },
    {
      "cell_type": "markdown",
      "source": [
        "## <font color='#00FFFF'> **4. Graph-based** </font>"
      ],
      "metadata": {
        "id": "uayisoeatr5E"
      }
    },
    {
      "cell_type": "markdown",
      "source": [
        "El algoritmo de **Felzenszwalb-Huttenlocher** modela la imagen como un grafo, donde los nodos son píxeles y las aristas conectan píxeles vecinos con pesos basados en la diferencia de color.\n",
        "\n",
        "\n",
        "La idea es segmentar la imagen maximizando la homogeneidad dentro de las regiones y los contrastes en los bordes.\n",
        "\n",
        "Cada peso lo definimos como:\n",
        "$$\n",
        "w(u, v) = \\|I(u) - I(v)\\|\n",
        "$$\n",
        "\n",
        "Donde:\n",
        "- $I(u), I(v)$: intensidad o color de los píxeles $u$ y $v$\n",
        "\n",
        "Se unen regiones $A$ y $B$ si:\n",
        "\n",
        "$$\n",
        "w(A, B) \\leq \\min(\\text{Int}(A) + \\tau(A), \\text{Int}(B) + \\tau(B))\n",
        "$$\n",
        "$$\n",
        "$$\n",
        "\n",
        "$$ \\tau(A) = k / |A| $$\n",
        "Donde:\n",
        "- $ \\text{Int}(A) $: variación interna de A\n",
        "- $\\tau(A)$ : función que penaliza regiones pequeñas (k es un parámetro de escala)\n",
        "\n",
        "El proceso se realiza como:\n",
        "1. Crear grafo con aristas entre píxeles vecinos\n",
        "2. Ordenar aristas por peso\n",
        "3. Unir componentes si cumplen el criterio de umbral\n",
        "4. Opcionalmente eliminar regiones pequeñas"
      ],
      "metadata": {
        "id": "5A_vyuUyPduw"
      }
    },
    {
      "cell_type": "code",
      "source": [
        "k=None\n",
        "r=None\n",
        "segments_fz = felzenszwalb(None, scale=k, min_size=r)\n",
        "\n",
        "fig, ax = plt.subplots(1, 2, figsize=(10, 5))\n",
        "ax[0].imshow(image)\n",
        "ax[0].set_title(\"Imagen Original\")\n",
        "ax[1].imshow(mark_boundaries(image, segments_fz, color=1))\n",
        "ax[1].set_title(f\"Felzenszwalb\")\n",
        "for a in ax.ravel():\n",
        "    a.set_axis_off()\n",
        "plt.tight_layout()\n",
        "plt.show()"
      ],
      "metadata": {
        "id": "cgy6czcC--np",
        "collapsed": true
      },
      "execution_count": null,
      "outputs": []
    },
    {
      "cell_type": "markdown",
      "source": [
        "## <font color='#00FFFF'> **Bibliografía** </font>"
      ],
      "metadata": {
        "id": "ZWPEIy2BwAcc"
      }
    },
    {
      "cell_type": "markdown",
      "source": [
        "(N.d.). KDnuggets. Retrieved May 4, 2025, from https://www.kdnuggets.com/2019/08/introduction-image-segmentation-k-means-clustering.html\n",
        "\n",
        "Comaniciu, D., & Meer, P. (2002). Mean shift: A robust approach toward feature space analysis. IEEE Transactions on pattern analysis and machine intelligence, 24(5), 603-619.\n",
        "\n",
        "Felzenszwalb, P. F., & Huttenlocher, D. P. (2004). Efficient graph-based image segmentation. International journal of computer vision, 59, 167-181.\n",
        "\n",
        "Achanta, R., Shaji, A., Smith, K., Lucchi, A., Fua, P., & Süsstrunk, S. (2010). Slic superpixels.\n",
        "\n",
        "GeeksforGeeks. (2024, July 10). Image segmentation using mean shift clustering. GeeksforGeeks. https://www.geeksforgeeks.org/image-segmentation-using-mean-shift-clustering/"
      ],
      "metadata": {
        "id": "Yf2Fo7Qiy1mD"
      }
    }
  ]
}